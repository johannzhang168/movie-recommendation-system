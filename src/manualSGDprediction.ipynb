{
 "cells": [
  {
   "cell_type": "code",
   "execution_count": 1,
   "metadata": {},
   "outputs": [],
   "source": [
    "\n",
    "from train_valid_test_loader import load_train_valid_test_datasets\n",
    "from CollabFilterOneVectorPerItem import CollabFilterOneVectorPerItem\n",
    "\n",
    "import matplotlib.pyplot as plt\n",
    "import pandas as pd\n"
   ]
  },
  {
   "cell_type": "code",
   "execution_count": 2,
   "metadata": {},
   "outputs": [],
   "source": [
    "train_tuple, valid_tuple, test_tuple, n_users, n_items = load_train_valid_test_datasets()\n",
    "\n"
   ]
  },
  {
   "cell_type": "code",
   "execution_count": null,
   "metadata": {},
   "outputs": [],
   "source": [
    "def plot_results(epochs, train_maes, valid_maes, title, k):\n",
    "    plt.figure(figsize=(10, 6))  # Set figure size\n",
    "    plt.plot(epochs, train_maes, label='Training MAE', linestyle='-')\n",
    "    plt.plot(epochs, valid_maes, label='Validation MAE', linestyle='-')\n",
    "    plt.title(f'{title} for K={k}')\n",
    "    plt.xlabel('Epochs')\n",
    "    plt.ylabel('Mean Absolute Error')\n",
    "    plt.legend()\n",
    "    plt.grid(True)\n",
    "    plt.show()\n",
    "\n",
    "K_values = [2, 10, 50]\n",
    "for k in K_values:\n",
    "    model = CollabFilterOneVectorPerItem(\n",
    "        n_factors=k, alpha=0.0, n_epochs=40, step_size=0.2, batch_size=32)\n",
    "    model.init_parameter_dict(n_users, n_items, train_tuple)\n",
    "    model.fit(train_tuple, valid_tuple)\n",
    "    plot_results(model.trace_epoch, model.trace_mae_train, model.trace_mae_valid, \"MAE for Different K Values\", k)"
   ]
  },
  {
   "cell_type": "code",
   "execution_count": null,
   "metadata": {},
   "outputs": [],
   "source": [
    "def plot_results(epochs, train_maes, valid_maes, title, k):\n",
    "    plt.figure(figsize=(10, 6))  # Set figure size\n",
    "    plt.plot(epochs, train_maes, label='Training MAE', linestyle='-')\n",
    "    plt.plot(epochs, valid_maes, label='Validation MAE', linestyle='-')\n",
    "    plt.title(f'{title} for a={k}')\n",
    "    plt.xlabel('Epochs')\n",
    "    plt.ylabel('Mean Absolute Error')\n",
    "    plt.legend()\n",
    "    plt.grid(True)\n",
    "    plt.show()\n",
    "\n",
    "\n",
    "alphas = [0.01, 0.1, 1]\n",
    "for k in alphas:\n",
    "    model = CollabFilterOneVectorPerItem(\n",
    "        n_factors=50, alpha=k, n_epochs=50, step_size=0.2, batch_size=32)\n",
    "    model.init_parameter_dict(n_users, n_items, train_tuple)\n",
    "    model.fit(train_tuple, valid_tuple)\n",
    "    plot_results(model.trace_epoch, model.trace_mae_train, model.trace_mae_valid, \"MAE for Different Alpha Values\", k)\n",
    "\n",
    "\n"
   ]
  },
  {
   "cell_type": "code",
   "execution_count": null,
   "metadata": {},
   "outputs": [],
   "source": [
    "def plot_results(epochs, train_maes, valid_maes, title, k):\n",
    "    plt.figure(figsize=(10, 6))  # Set figure size\n",
    "    plt.plot(epochs, train_maes, label='Training MAE', linestyle='-')\n",
    "    plt.plot(epochs, valid_maes, label='Validation MAE', linestyle='-')\n",
    "    plt.title(f'{title} for a={k}')\n",
    "    plt.xlabel('Epochs')\n",
    "    plt.ylabel('Mean Absolute Error')\n",
    "    plt.legend()\n",
    "    plt.grid(True)\n",
    "    plt.show()\n",
    "\n",
    "alphas = [0.1, 0.01, 0.0001]\n",
    "for a in alphas:\n",
    "\n",
    "    model = CollabFilterOneVectorPerItem(\n",
    "        n_factors=2, alpha=a, n_epochs=40, step_size=0.2, batch_size=32)\n",
    "    model.init_parameter_dict(n_users, n_items, train_tuple)\n",
    "    model.fit(train_tuple, valid_tuple)\n",
    "    plot_results(model.trace_epoch, model.trace_mae_train, model.trace_mae_valid, \"MAE for Different alpha Values\", a)"
   ]
  },
  {
   "cell_type": "code",
   "execution_count": null,
   "metadata": {},
   "outputs": [],
   "source": [
    "\n",
    "\n",
    "model = CollabFilterOneVectorPerItem(\n",
    "n_factors=50, alpha=0.1, n_epochs=50, step_size=0.2, batch_size=32)\n",
    "model.init_parameter_dict(n_users, n_items, train_tuple)\n",
    "model.fit(train_tuple, valid_tuple)\n",
    "plot_results(model.trace_epoch, model.trace_mae_train, model.trace_mae_valid, \"MAE for Different alpha Values\", 0.1)"
   ]
  },
  {
   "cell_type": "code",
   "execution_count": null,
   "metadata": {},
   "outputs": [],
   "source": [
    "model = CollabFilterOneVectorPerItem(\n",
    "n_factors=2, alpha=0.0, n_epochs=600, step_size=0.5, batch_size=32)\n",
    "select_movies_df = pd.read_csv('../data_movie_lens_100k/select_movies.csv')\n",
    "select_movie_ids = select_movies_df['item_id'].values\n",
    "select_movie_titles = select_movies_df['title'].values\n",
    "model.init_parameter_dict(n_users, n_items, train_tuple)\n",
    "model.fit(train_tuple, valid_tuple)\n",
    "movie_embeddings = model.param_dict['V'][select_movie_ids]\n",
    "\n"
   ]
  },
  {
   "cell_type": "code",
   "execution_count": 29,
   "metadata": {},
   "outputs": [],
   "source": [
    "model_param_dict = model.param_dict"
   ]
  },
  {
   "cell_type": "code",
   "execution_count": null,
   "metadata": {},
   "outputs": [],
   "source": [
    "select_movie_ids = select_movies_df['item_id'].values\n",
    "select_movie_titles = select_movies_df['title'].values\n",
    "labels = select_movies_df['title'].values\n",
    "\n",
    "\n",
    "fig = plt.figure(figsize=(10, 10))\n",
    "first_factor = []\n",
    "second_factor = []\n",
    "for i in select_movie_ids:\n",
    "    first_factor.append(model.param_dict['V'][i][0])\n",
    "    second_factor.append(model.param_dict['V'][i][1])\n",
    "\n",
    "\n",
    "plt.scatter(first_factor, second_factor)\n",
    "plt.title('Embeddings of Movie Vectors')\n",
    "plt.xlabel('First Factor')\n",
    "plt.ylabel('Second Factor')\n",
    "for i, l in enumerate(labels):\n",
    "    plt.annotate(l, (first_factor[i], second_factor[i]), fontsize=7)\n",
    "\n",
    "\n",
    "plt.show()\n",
    "\n"
   ]
  }
 ],
 "metadata": {
  "kernelspec": {
   "display_name": "base",
   "language": "python",
   "name": "python3"
  },
  "language_info": {
   "codemirror_mode": {
    "name": "ipython",
    "version": 3
   },
   "file_extension": ".py",
   "mimetype": "text/x-python",
   "name": "python",
   "nbconvert_exporter": "python",
   "pygments_lexer": "ipython3",
   "version": "3.11.5"
  }
 },
 "nbformat": 4,
 "nbformat_minor": 2
}
